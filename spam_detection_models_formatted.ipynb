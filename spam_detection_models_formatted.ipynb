{
 "cells": [
  {
   "cell_type": "markdown",
   "id": "560f496a",
   "metadata": {},
   "source": [
    "\n",
    "# Spam Detection Model Analysis\n",
    "\n",
    "In this notebook, we will create and evaluate two different machine learning models to classify emails as spam or not spam. The models considered are Logistic Regression and Random Forest, and we will determine which one performs better using the provided dataset.\n"
   ]
  },
  {
   "cell_type": "code",
   "execution_count": null,
   "id": "06fd5509",
   "metadata": {},
   "outputs": [],
   "source": [
    "\n",
    "import pandas as pd\n",
    "from sklearn.model_selection import train_test_split\n",
    "from sklearn.preprocessing import StandardScaler\n",
    "from sklearn.linear_model import LogisticRegression\n",
    "from sklearn.ensemble import RandomForestClassifier\n",
    "from sklearn.metrics import accuracy_score\n",
    "\n",
    "# Load the dataset\n",
    "df = pd.read_csv('/mnt/data/spam-data.csv')\n",
    "\n",
    "# Display the first few rows of the dataset\n",
    "df.head()\n"
   ]
  },
  {
   "cell_type": "markdown",
   "id": "ab1f6c94",
   "metadata": {},
   "source": [
    "\n",
    "## Data Preparation and Splitting\n",
    "\n",
    "We will split the dataset into features and labels, and then further split them into training and testing sets using a 70-30 split.\n"
   ]
  },
  {
   "cell_type": "code",
   "execution_count": null,
   "id": "ba756d58",
   "metadata": {},
   "outputs": [],
   "source": [
    "\n",
    "# Splitting the data into labels (y) and features (X)\n",
    "y = df['spam']\n",
    "X = df.drop(columns=['spam'])\n",
    "\n",
    "# Splitting the data into training and testing datasets\n",
    "X_train, X_test, y_train, y_test = train_test_split(X, y, test_size=0.3, random_state=1)\n"
   ]
  },
  {
   "cell_type": "markdown",
   "id": "a47380dd",
   "metadata": {},
   "source": [
    "\n",
    "## Feature Scaling\n",
    "\n",
    "To ensure the features are on the same scale, we will use `StandardScaler` to standardize the feature set.\n"
   ]
  },
  {
   "cell_type": "code",
   "execution_count": null,
   "id": "d3bb826a",
   "metadata": {},
   "outputs": [],
   "source": [
    "\n",
    "# Scaling the features\n",
    "scaler = StandardScaler()\n",
    "\n",
    "# Fit the scaler on the training data\n",
    "X_train_scaled = scaler.fit_transform(X_train)\n",
    "\n",
    "# Transform the testing data\n",
    "X_test_scaled = scaler.transform(X_test)\n"
   ]
  },
  {
   "cell_type": "markdown",
   "id": "9ac5fa3d",
   "metadata": {},
   "source": [
    "\n",
    "## Logistic Regression Model\n",
    "\n",
    "Next, we will create a Logistic Regression model and evaluate its performance.\n"
   ]
  },
  {
   "cell_type": "code",
   "execution_count": null,
   "id": "7bca3f57",
   "metadata": {},
   "outputs": [],
   "source": [
    "\n",
    "# Creating and training the Logistic Regression model\n",
    "log_reg_model = LogisticRegression(random_state=1)\n",
    "log_reg_model.fit(X_train_scaled, y_train)\n",
    "\n",
    "# Making predictions with the Logistic Regression model\n",
    "y_pred_log_reg = log_reg_model.predict(X_test_scaled)\n",
    "\n",
    "# Evaluating the Logistic Regression model\n",
    "log_reg_accuracy = accuracy_score(y_test, y_pred_log_reg)\n",
    "log_reg_accuracy\n"
   ]
  },
  {
   "cell_type": "markdown",
   "id": "9416f077",
   "metadata": {},
   "source": [
    "\n",
    "## Random Forest Model\n",
    "\n",
    "We will also create a Random Forest model and evaluate its performance.\n"
   ]
  },
  {
   "cell_type": "code",
   "execution_count": null,
   "id": "cdd80815",
   "metadata": {},
   "outputs": [],
   "source": [
    "\n",
    "# Creating and training the Random Forest model\n",
    "rf_model = RandomForestClassifier(random_state=1)\n",
    "rf_model.fit(X_train_scaled, y_train)\n",
    "\n",
    "# Making predictions with the Random Forest model\n",
    "y_pred_rf = rf_model.predict(X_test_scaled)\n",
    "\n",
    "# Evaluating the Random Forest model\n",
    "rf_accuracy = accuracy_score(y_test, y_pred_rf)\n",
    "rf_accuracy\n"
   ]
  },
  {
   "cell_type": "markdown",
   "id": "520dd0ee",
   "metadata": {},
   "source": [
    "\n",
    "## Model Comparison\n",
    "\n",
    "Finally, we compare the accuracy of both models to determine which one is better at detecting spam.\n"
   ]
  },
  {
   "cell_type": "code",
   "execution_count": null,
   "id": "5e77f70b",
   "metadata": {},
   "outputs": [],
   "source": [
    "\n",
    "if log_reg_accuracy > rf_accuracy:\n",
    "    better_model = \"Logistic Regression\"\n",
    "else:\n",
    "    better_model = \"Random Forest\"\n",
    "\n",
    "better_model, log_reg_accuracy, rf_accuracy\n"
   ]
  }
 ],
 "metadata": {},
 "nbformat": 4,
 "nbformat_minor": 5
}
